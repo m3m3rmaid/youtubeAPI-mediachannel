{
 "cells": [
  {
   "cell_type": "code",
   "execution_count": 39,
   "metadata": {
    "collapsed": true,
    "ExecuteTime": {
     "end_time": "2023-09-04T17:59:18.896271100Z",
     "start_time": "2023-09-04T17:59:18.883149200Z"
    }
   },
   "outputs": [],
   "source": [
    "from googleapiclient.discovery import build\n",
    "import pandas as pd\n",
    "import seaborn as sns\n",
    "import os\n",
    "from apiclient.discovery import build"
   ]
  },
  {
   "cell_type": "code",
   "execution_count": 40,
   "outputs": [],
   "source": [
    "# Retrieve the API key from the environment\n",
    "api_key = os.environ.get('YOUTUBE_API')\n",
    "youtube = build('youtube','v3', developerKey = api_key)"
   ],
   "metadata": {
    "collapsed": false,
    "ExecuteTime": {
     "end_time": "2023-09-04T17:59:19.582367800Z",
     "start_time": "2023-09-04T17:59:19.545364300Z"
    }
   }
  },
  {
   "cell_type": "code",
   "execution_count": 54,
   "outputs": [],
   "source": [
    "## Function to get channel data\n",
    "\n",
    "def get_data(youtube, channel_ids):\n",
    "\n",
    "    channel_data = []\n",
    "\n",
    "    request = youtube.channels().list(\n",
    "        part=\"snippet,contentDetails,statistics\",\n",
    "        id= ','.join(channel_ids)  #convert list of IDs into string\n",
    "    )\n",
    "    response = request.execute()\n",
    "\n",
    "    for i in range(len(response['items'])):\n",
    "        country = response['items'][i]['snippet'].get('country')  # Get the country value or None if missing\n",
    "        data = dict(\n",
    "            Channel_name=response['items'][i]['snippet']['title'],\n",
    "            Country=country,\n",
    "            Subscriber=response['items'][i]['statistics']['subscriberCount'],\n",
    "            View=response['items'][i]['statistics']['viewCount'],\n",
    "            TotalVDO=response['items'][i]['statistics']['videoCount'],\n",
    "            Published=response['items'][i]['snippet']['publishedAt'],\n",
    "            Description=response['items'][i]['snippet']['description']\n",
    "        )\n",
    "        channel_data.append(data)\n",
    "\n",
    "    return channel_data"
   ],
   "metadata": {
    "collapsed": false,
    "ExecuteTime": {
     "end_time": "2023-09-04T18:03:58.489140Z",
     "start_time": "2023-09-04T18:03:58.428137100Z"
    }
   }
  },
  {
   "cell_type": "code",
   "execution_count": 56,
   "outputs": [],
   "source": [
    "yt_stat = get_data(youtube,channel_ids)"
   ],
   "metadata": {
    "collapsed": false,
    "ExecuteTime": {
     "end_time": "2023-09-04T18:05:58.391668800Z",
     "start_time": "2023-09-04T18:05:58.282458300Z"
    }
   }
  },
  {
   "cell_type": "code",
   "execution_count": 50,
   "outputs": [],
   "source": [
    "## Global media channels\n",
    "\n",
    "channel_ids = ['UC16niRr50-MSBwiO3YDb3RA',#BBC\n",
    "               'UCupvZG-5ko_eiXAupbDfxWw',#CNN\n",
    "               'UCIALMKvObZNtJ6AmdCLP7Lg',#Bloomberg\n",
    "               'UChqUTb7kYRX8-EiaN3XFrSQ', #Reuters\n",
    "               'UCK7tptUDHh-RYDsdxO1-5QQ', #WSJ\n",
    "               'UCNye-wNBqNL5ZzHSJj3l8Bg',#aljazeeraenglish\n",
    "               'UCZFMm1mMw0F81Z37aaEzTUA', #NDTV\n",
    "               'UCIvaYmXn910QMdemBG3v1pQ',#Zee News\n",
    "               'UCSPEjw8F2nQDtmUKPFNF7_A',#NHKWORLDJAPAN\n",
    "               'UCo_QfGG3FlWVh3Z0AoxuwBA',#thejapantimes\n",
    "               'UCgrNz-aDmcr2uuto8_DL2jg', #CGTN\n",
    "               'UCahujLjSL34EPNxtwKRi_vg', #chinadaily6722\n",
    "               'UC5BMQOsAB8hKUyHu9KI6yig', #kbsworldtv\n",
    "               'UCzznO4xSV8BKnUBPyswtCUw', #ArirangCoKrArirangNEWS\n",
    "               'UC83jt4dlz1Gjl58fzQrrKZg', #ChannelNewsAsia\n",
    "               'UC4p_I9eiRewn2KoU-nawrDg', #straitstimesonline\n",
    "               'UCpWvshQVx1d7BqCsPnVuNIw', #theStarOnline\n",
    "               'UCk1v3FzlMu3r34LYgoHpH2w', #TheStandardNews\n",
    "               'UCrFDdD-EE05N7gjwZho2wqw' #thairathonline\n",
    "\n",
    "]"
   ],
   "metadata": {
    "collapsed": false,
    "ExecuteTime": {
     "end_time": "2023-09-04T18:02:57.680663800Z",
     "start_time": "2023-09-04T18:02:57.627662700Z"
    }
   }
  },
  {
   "cell_type": "markdown",
   "source": [
    "# Import JSON"
   ],
   "metadata": {
    "collapsed": false
   }
  },
  {
   "cell_type": "code",
   "execution_count": 70,
   "outputs": [],
   "source": [
    "def save_data(title, data):\n",
    "    with open(title,'w', encoding='utf-8') as f:\n",
    "        json.dump(data,f, ensure_ascii=False, indent=2)"
   ],
   "metadata": {
    "collapsed": false,
    "ExecuteTime": {
     "end_time": "2023-09-04T18:22:18.870765200Z",
     "start_time": "2023-09-04T18:22:18.815763400Z"
    }
   }
  },
  {
   "cell_type": "code",
   "execution_count": 69,
   "outputs": [],
   "source": [
    "import json\n",
    "\n",
    "def load_data(title):\n",
    "    with open(title, encoding='utf-8') as f:\n",
    "        return json.load(f)"
   ],
   "metadata": {
    "collapsed": false,
    "ExecuteTime": {
     "end_time": "2023-09-04T18:22:15.051685800Z",
     "start_time": "2023-09-04T18:22:14.966678700Z"
    }
   }
  },
  {
   "cell_type": "code",
   "execution_count": 71,
   "outputs": [],
   "source": [
    "save_data('media_data.json', yt_stat)\n"
   ],
   "metadata": {
    "collapsed": false,
    "ExecuteTime": {
     "end_time": "2023-09-04T18:22:44.932194Z",
     "start_time": "2023-09-04T18:22:44.841187600Z"
    }
   }
  },
  {
   "cell_type": "markdown",
   "source": [
    "## Load data from JSON"
   ],
   "metadata": {
    "collapsed": false
   }
  },
  {
   "cell_type": "code",
   "execution_count": 72,
   "outputs": [],
   "source": [
    "yt_stat = load_data('media_data.json')"
   ],
   "metadata": {
    "collapsed": false,
    "ExecuteTime": {
     "end_time": "2023-09-04T18:24:23.573093400Z",
     "start_time": "2023-09-04T18:24:23.531091400Z"
    }
   }
  },
  {
   "cell_type": "code",
   "execution_count": 77,
   "outputs": [],
   "source": [
    "from datetime import datetime"
   ],
   "metadata": {
    "collapsed": false,
    "ExecuteTime": {
     "end_time": "2023-09-04T18:28:45.227513600Z",
     "start_time": "2023-09-04T18:28:45.195513500Z"
    }
   }
  },
  {
   "cell_type": "markdown",
   "source": [
    "## Create DataFrame"
   ],
   "metadata": {
    "collapsed": false
   }
  },
  {
   "cell_type": "code",
   "execution_count": 57,
   "outputs": [],
   "source": [
    "yt_data = pd.DataFrame(yt_stat)"
   ],
   "metadata": {
    "collapsed": false,
    "ExecuteTime": {
     "end_time": "2023-09-04T18:06:32.931032700Z",
     "start_time": "2023-09-04T18:06:32.854013600Z"
    }
   }
  },
  {
   "cell_type": "code",
   "execution_count": 58,
   "outputs": [
    {
     "data": {
      "text/plain": "          Channel_name Country Subscriber         View TotalVDO  \\\n0      NHK WORLD-JAPAN      JP    2500000    665586803     2287   \n1         Arirang News      KR     642000    291953075   145014   \n2  Wall Street Journal      US    4600000   1643492294    27087   \n3         KBS WORLD TV      KR   19100000  15333328534    65536   \n4      Thairath Online      TH   16600000  14976372442   249760   \n\n              Published                                        Description  \n0  2007-03-11T09:01:54Z  NHK WORLD -JAPAN is the international broadcas...  \n1  2009-06-22T06:12:43Z  Arirang NEWS delivers the latest news on Natio...  \n2  2007-06-18T18:06:47Z  The new WSJ Video takes you inside carefully s...  \n3  2007-01-06T03:50:16Z  KBS WORLD TV is a television channel for inter...  \n4  2010-09-27T03:41:29Z  ไทยรัฐออนไลน์ & ไทยรัฐทีวี ช่อง 32 นำเสนอข่าวส...  ",
      "text/html": "<div>\n<style scoped>\n    .dataframe tbody tr th:only-of-type {\n        vertical-align: middle;\n    }\n\n    .dataframe tbody tr th {\n        vertical-align: top;\n    }\n\n    .dataframe thead th {\n        text-align: right;\n    }\n</style>\n<table border=\"1\" class=\"dataframe\">\n  <thead>\n    <tr style=\"text-align: right;\">\n      <th></th>\n      <th>Channel_name</th>\n      <th>Country</th>\n      <th>Subscriber</th>\n      <th>View</th>\n      <th>TotalVDO</th>\n      <th>Published</th>\n      <th>Description</th>\n    </tr>\n  </thead>\n  <tbody>\n    <tr>\n      <th>0</th>\n      <td>NHK WORLD-JAPAN</td>\n      <td>JP</td>\n      <td>2500000</td>\n      <td>665586803</td>\n      <td>2287</td>\n      <td>2007-03-11T09:01:54Z</td>\n      <td>NHK WORLD -JAPAN is the international broadcas...</td>\n    </tr>\n    <tr>\n      <th>1</th>\n      <td>Arirang News</td>\n      <td>KR</td>\n      <td>642000</td>\n      <td>291953075</td>\n      <td>145014</td>\n      <td>2009-06-22T06:12:43Z</td>\n      <td>Arirang NEWS delivers the latest news on Natio...</td>\n    </tr>\n    <tr>\n      <th>2</th>\n      <td>Wall Street Journal</td>\n      <td>US</td>\n      <td>4600000</td>\n      <td>1643492294</td>\n      <td>27087</td>\n      <td>2007-06-18T18:06:47Z</td>\n      <td>The new WSJ Video takes you inside carefully s...</td>\n    </tr>\n    <tr>\n      <th>3</th>\n      <td>KBS WORLD TV</td>\n      <td>KR</td>\n      <td>19100000</td>\n      <td>15333328534</td>\n      <td>65536</td>\n      <td>2007-01-06T03:50:16Z</td>\n      <td>KBS WORLD TV is a television channel for inter...</td>\n    </tr>\n    <tr>\n      <th>4</th>\n      <td>Thairath Online</td>\n      <td>TH</td>\n      <td>16600000</td>\n      <td>14976372442</td>\n      <td>249760</td>\n      <td>2010-09-27T03:41:29Z</td>\n      <td>ไทยรัฐออนไลน์ &amp; ไทยรัฐทีวี ช่อง 32 นำเสนอข่าวส...</td>\n    </tr>\n  </tbody>\n</table>\n</div>"
     },
     "execution_count": 58,
     "metadata": {},
     "output_type": "execute_result"
    }
   ],
   "source": [
    "yt_data.head()"
   ],
   "metadata": {
    "collapsed": false,
    "ExecuteTime": {
     "end_time": "2023-09-04T18:06:37.550054800Z",
     "start_time": "2023-09-04T18:06:37.458562300Z"
    }
   }
  },
  {
   "cell_type": "code",
   "execution_count": 64,
   "outputs": [
    {
     "name": "stdout",
     "output_type": "stream",
     "text": [
      "Channel_name    object\n",
      "Country         object\n",
      "Subscriber      object\n",
      "View            object\n",
      "TotalVDO        object\n",
      "Published       object\n",
      "Description     object\n",
      "dtype: object\n"
     ]
    }
   ],
   "source": [
    "print(yt_data.dtypes)"
   ],
   "metadata": {
    "collapsed": false,
    "ExecuteTime": {
     "end_time": "2023-09-04T18:09:21.618993600Z",
     "start_time": "2023-09-04T18:09:21.584991700Z"
    }
   }
  },
  {
   "cell_type": "markdown",
   "source": [
    "## Data Cleaning\n",
    "- Convert Channel_name, Country, Description to String\n",
    "- Convert Subscriber, View, TotalVDO to int\n",
    "- Convert Published to DateTime formate"
   ],
   "metadata": {
    "collapsed": false
   }
  },
  {
   "cell_type": "code",
   "execution_count": 66,
   "outputs": [],
   "source": [
    "yt_data['Subscriber'] = pd.to_numeric(yt_data['Subscriber'])\n",
    "yt_data['View'] = pd.to_numeric(yt_data['View'])\n",
    "yt_data['TotalVDO'] = pd.to_numeric(yt_data['TotalVDO'])\n",
    "yt_data['Published'] = pd.to_datetime(yt_data['Published'])\n",
    "yt_data['Channel_name'] = yt_data['Channel_name'].astype(str)\n",
    "yt_data['Description'] = yt_data['Description'].astype(str)"
   ],
   "metadata": {
    "collapsed": false,
    "ExecuteTime": {
     "end_time": "2023-09-04T18:15:34.234109100Z",
     "start_time": "2023-09-04T18:15:34.193104300Z"
    }
   }
  },
  {
   "cell_type": "code",
   "execution_count": 67,
   "outputs": [
    {
     "name": "stdout",
     "output_type": "stream",
     "text": [
      "Channel_name                 object\n",
      "Country                      object\n",
      "Subscriber                    int64\n",
      "View                          int64\n",
      "TotalVDO                      int64\n",
      "Published       datetime64[ns, UTC]\n",
      "Description                  object\n",
      "dtype: object\n"
     ]
    }
   ],
   "source": [
    "print(yt_data.dtypes)"
   ],
   "metadata": {
    "collapsed": false,
    "ExecuteTime": {
     "end_time": "2023-09-04T18:15:44.476271400Z",
     "start_time": "2023-09-04T18:15:44.392264200Z"
    }
   }
  }
 ],
 "metadata": {
  "kernelspec": {
   "display_name": "Python 3",
   "language": "python",
   "name": "python3"
  },
  "language_info": {
   "codemirror_mode": {
    "name": "ipython",
    "version": 2
   },
   "file_extension": ".py",
   "mimetype": "text/x-python",
   "name": "python",
   "nbconvert_exporter": "python",
   "pygments_lexer": "ipython2",
   "version": "2.7.6"
  }
 },
 "nbformat": 4,
 "nbformat_minor": 0
}
